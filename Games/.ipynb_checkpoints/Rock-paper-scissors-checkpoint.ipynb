{
 "cells": [
  {
   "cell_type": "code",
   "execution_count": 1,
   "metadata": {},
   "outputs": [],
   "source": [
    "#import random module\n",
    "from random import randint\n",
    "\n",
    "#main function\n",
    "def main():\n",
    "    #intro message\n",
    "    print(\"Let's play 'Rock, Paper, Scissors'!\")\n",
    "    #call the user's guess function\n",
    "    number = user_pick()\n",
    "    #call the computer's number function\n",
    "    num = computer_choice()\n",
    "    #call the results function\n",
    "    results(num, number)"
   ]
  },
  {
   "cell_type": "code",
   "execution_count": 2,
   "metadata": {},
   "outputs": [],
   "source": [
    "#computer_number function\n",
    "def computer_choice():\n",
    "    #get a random number in the range of 1 through 3\n",
    "    num = randint(1,3)\n",
    "    #if/elif statement\n",
    "    if num == 1:\n",
    "        print(\"Computer chooses rock\")\n",
    "    elif num == 2:\n",
    "        print(\"Computer chooses paper\")\n",
    "    elif num == 3:\n",
    "        print(\"Computer chooses scissors\")\n",
    "    #return the number\n",
    "    return num"
   ]
  },
  {
   "cell_type": "code",
   "execution_count": 3,
   "metadata": {},
   "outputs": [],
   "source": [
    "#user_pick function\n",
    "def user_pick():\n",
    "    #get the user's guess\n",
    "    guess = input(\"Choose 'rock', 'paper', or 'scissors' by typing that word. \")\n",
    "    #while guess == 'paper' or guess == 'rock' or guess == 'scissors':\n",
    "    if is_valid_guess(guess):\n",
    "        #if/elif statement\n",
    "        #assign 1 to rock\n",
    "        if guess == 'rock':\n",
    "            number = 1\n",
    "        #assign 2 to paper\n",
    "        elif guess == 'paper':\n",
    "            number = 2\n",
    "        #assign 3 to scissors\n",
    "        elif guess == 'scissors':\n",
    "            number = 3\n",
    "        return number\n",
    "    else:\n",
    "        print('That response is invalid.')\n",
    "        user_pick()"
   ]
  },
  {
   "cell_type": "code",
   "execution_count": 6,
   "metadata": {},
   "outputs": [],
   "source": [
    "def is_valid_guess(guess):\n",
    "    if guess == 'rock' or 'paper' or 'scissors':\n",
    "        status = True\n",
    "    else:\n",
    "        status = False\n",
    "    return status"
   ]
  },
  {
   "cell_type": "code",
   "execution_count": 4,
   "metadata": {},
   "outputs": [],
   "source": [
    "def restart():\n",
    "    answer = input(\"Would you like to play again? Enter 'y' for yes or \\\n",
    "    'n' for no: \")\n",
    "    #if/elif statement\n",
    "    if answer == 'y':\n",
    "        main()\n",
    "    elif answer == 'n':\n",
    "        print(\"See you again!\")\n",
    "    else:\n",
    "        print(\"Please enter only 'y' or 'n'!\")\n",
    "        #call restart\n",
    "        restart()"
   ]
  },
  {
   "cell_type": "code",
   "execution_count": null,
   "metadata": {},
   "outputs": [
    {
     "name": "stdout",
     "output_type": "stream",
     "text": [
      "Let's play 'Rock, Paper, Scissors'!\n",
      "Choose 'rock', 'paper', or 'scissors' by typing that word. rock\n",
      "Computer chooses paper\n",
      "Computer wins!\n",
      "Would you like to play again? Enter 'y' for yes or     'n' for no: y\n",
      "Let's play 'Rock, Paper, Scissors'!\n",
      "Choose 'rock', 'paper', or 'scissors' by typing that word. rock\n",
      "Computer chooses scissors\n",
      "Player wins!\n"
     ]
    }
   ],
   "source": [
    "#results function\n",
    "def results(num, number):\n",
    "    #check to \n",
    "    #find the difference in the two numbers\n",
    "    difference = num - number\n",
    "    #if/elif statement\n",
    "    if difference == 0:\n",
    "        print(\"TIE!\")\n",
    "        #call restart\n",
    "        restart()\n",
    "    elif difference % 3 == 1:\n",
    "        print(\"Computer wins!\")\n",
    "        #call restart\n",
    "        restart()\n",
    "    elif difference % 3 == 2:\n",
    "        print(\"Player wins!\")\n",
    "        #call restart\n",
    "        restart()\n",
    "main()"
   ]
  },
  {
   "cell_type": "code",
   "execution_count": null,
   "metadata": {},
   "outputs": [],
   "source": []
  }
 ],
 "metadata": {
  "kernelspec": {
   "display_name": "Python 3",
   "language": "python",
   "name": "python3"
  },
  "language_info": {
   "codemirror_mode": {
    "name": "ipython",
    "version": 3
   },
   "file_extension": ".py",
   "mimetype": "text/x-python",
   "name": "python",
   "nbconvert_exporter": "python",
   "pygments_lexer": "ipython3",
   "version": "3.6.3"
  }
 },
 "nbformat": 4,
 "nbformat_minor": 2
}
